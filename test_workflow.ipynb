{
 "cells": [
  {
   "cell_type": "code",
   "execution_count": 6,
   "metadata": {},
   "outputs": [],
   "source": [
    "from clean_train_ticket_image import clean_train_ticket_image\n",
    "import matplotlib.pyplot as plt\n",
    "import cv2 as cv"
   ]
  },
  {
   "cell_type": "markdown",
   "metadata": {},
   "source": [
    "## "
   ]
  },
  {
   "cell_type": "code",
   "execution_count": 2,
   "metadata": {},
   "outputs": [
    {
     "data": {
      "text/plain": [
       "<matplotlib.image.AxesImage at 0x11444b550>"
      ]
     },
     "execution_count": 2,
     "metadata": {},
     "output_type": "execute_result"
    },
    {
     "data": {
      "image/png": "[encoded data removed]",
      "text/plain": [
       "<Figure size 432x288 with 1 Axes>"
      ]
     },
     "metadata": {
      "needs_background": "light"
     },
     "output_type": "display_data"
    }
   ],
   "source": [
    "train_ticket_location = 'test_images/glasgow_to_lnd_euston.jpg'\n",
    "img = clean_train_ticket_image(train_ticket_location)\n",
    "plt.imshow(img)"
   ]
  },
  {
   "cell_type": "code",
   "execution_count": 4,
   "metadata": {},
   "outputs": [
    {
     "name": "stdout",
     "output_type": "stream",
     "text": [
      "VﬂLID WY HITH TRRVEL TICKET\n",
      "\n",
      ":... ul' '0 ”Mn. --;.\n",
      "_S_TD SLEEPER 34 NOV W38 E36 30\"\n",
      "\n",
      "W CENTRE. (1E B9550 41569893841\n",
      "\n",
      "r. m4\"\n",
      "LOW EUSTW 0 2341 Hows Ch unov-ea\n",
      "an hn-u\n",
      "N 21\n",
      "\n",
      "SLEEPER RESERURTION\n",
      "\n",
      ":cam-I :. m: .; :5 .n auras\n"
     ]
    }
   ],
   "source": [
    "import pytesseract\n",
    "print(pytesseract.image_to_string(img))"
   ]
  },
  {
   "cell_type": "markdown",
   "metadata": {},
   "source": [
    "### Without image cleaning method"
   ]
  },
  {
   "cell_type": "code",
   "execution_count": 7,
   "metadata": {},
   "outputs": [
    {
     "name": "stdout",
     "output_type": "stream",
     "text": [
      "VPLID (NJ HITH TRRVEL TICKET\n",
      "\n",
      "o. m. z.\" 9.!- -. ,.\n",
      "\n",
      "S:TDSLEEP€P. mmvaa [3600!\n",
      "\n",
      "’u: n\n",
      "\n",
      "W Cﬂfl'RFI. (IE 89550 4156089341\n",
      "\n",
      "r\n",
      "\n",
      " \n",
      "\n",
      "«m u\n",
      "\n",
      "m EUSTM 0 2341 Hows (II ouwee\n",
      "sum\n",
      "\n",
      "N 2'1\n",
      "\n",
      " \n",
      "\n",
      " \n",
      "\n",
      "SLEEPER RZSERUR'HW\n",
      "\n",
      "m1 ’n-nu ‘1 “mumm-\n"
     ]
    }
   ],
   "source": [
    "img2 = cv.imread(train_ticket_location)\n",
    "print(pytesseract.image_to_string(img2))"
   ]
  }
 ],
 "metadata": {
  "kernelspec": {
   "display_name": "delay-repay",
   "language": "python",
   "name": "delay-repay"
  },
  "language_info": {
   "codemirror_mode": {
    "name": "ipython",
    "version": 3
   },
   "file_extension": ".py",
   "mimetype": "text/x-python",
   "name": "python",
   "nbconvert_exporter": "python",
   "pygments_lexer": "ipython3",
   "version": "3.6.6"
  }
 },
 "nbformat": 4,
 "nbformat_minor": 2
}
